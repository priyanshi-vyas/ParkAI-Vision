{
 "cells": [
  {
   "cell_type": "code",
   "execution_count": 1,
   "id": "1b229f38",
   "metadata": {},
   "outputs": [],
   "source": [
    "import numpy as np\n",
    "import os\n",
    "from tensorflow.keras import applications\n",
    "from tensorflow.keras.preprocessing.image import ImageDataGenerator\n",
    "from tensorflow.keras import optimizers\n",
    "from tensorflow.keras.models import Sequential, Model\n",
    "from tensorflow.keras.layers import Dropout, Flatten, Dense, GlobalAveragePooling2D"
   ]
  },
  {
   "cell_type": "markdown",
   "id": "d3f602d9",
   "metadata": {},
   "source": [
    "Load train & test files"
   ]
  },
  {
   "cell_type": "code",
   "execution_count": 2,
   "id": "5a4a5fa9",
   "metadata": {},
   "outputs": [
    {
     "name": "stdout",
     "output_type": "stream",
     "text": [
      "432 164\n"
     ]
    }
   ],
   "source": [
    "files_train = 0\n",
    "files_validation = 0\n",
    "cwd = os.getcwd()\n",
    "folder = 'train_data/train'\n",
    "\n",
    "for sub_folder in os.listdir(folder):\n",
    "    path, dirs, files = next(os.walk(os.path.join(folder, sub_folder)))\n",
    "    files_train +=len(files)\n",
    "    \n",
    "folder = 'train_data/test'\n",
    "\n",
    "for sub_folder in os.listdir(folder):\n",
    "    path, dirs, files = next(os.walk(os.path.join(folder, sub_folder)))\n",
    "    files_validation +=len(files)\n",
    "\n",
    "print(files_train, files_validation)"
   ]
  },
  {
   "cell_type": "markdown",
   "id": "8ff52778",
   "metadata": {},
   "source": [
    "Set key parameters"
   ]
  },
  {
   "cell_type": "code",
   "execution_count": 4,
   "id": "1465f199",
   "metadata": {},
   "outputs": [],
   "source": [
    "img_width, img_height = 48,48\n",
    "train_data_dir = 'train_data/train'\n",
    "validation_data_dir = 'train_data/test'\n",
    "nb_train_sample = files_train\n",
    "nb_validation_sample = files_validation\n",
    "batch_size = 32\n",
    "epochs = 15\n",
    "num_classes = 2"
   ]
  },
  {
   "cell_type": "markdown",
   "id": "031c6a49",
   "metadata": {},
   "source": [
    "Build model on top of a pretrained VGG"
   ]
  },
  {
   "cell_type": "code",
   "execution_count": 5,
   "id": "bc481549",
   "metadata": {},
   "outputs": [],
   "source": [
    "model = applications.VGG16(weights = 'imagenet', include_top = False, input_shape = (img_width, img_height, 3))"
   ]
  },
  {
   "cell_type": "code",
   "execution_count": 7,
   "id": "3b2de7f7",
   "metadata": {},
   "outputs": [
    {
     "data": {
      "text/plain": [
       "[<keras.engine.input_layer.InputLayer at 0x1bb82c5de50>,\n",
       " <keras.layers.convolutional.conv2d.Conv2D at 0x1bb82c759a0>,\n",
       " <keras.layers.convolutional.conv2d.Conv2D at 0x1bb82c75970>,\n",
       " <keras.layers.pooling.max_pooling2d.MaxPooling2D at 0x1bb82c75e20>,\n",
       " <keras.layers.convolutional.conv2d.Conv2D at 0x1bb82f896d0>,\n",
       " <keras.layers.convolutional.conv2d.Conv2D at 0x1bb82f9e0a0>,\n",
       " <keras.layers.pooling.max_pooling2d.MaxPooling2D at 0x1bb82c75f40>,\n",
       " <keras.layers.convolutional.conv2d.Conv2D at 0x1bb82fa6dc0>,\n",
       " <keras.layers.convolutional.conv2d.Conv2D at 0x1bb82fa65b0>,\n",
       " <keras.layers.convolutional.conv2d.Conv2D at 0x1bb82faea90>,\n",
       " <keras.layers.pooling.max_pooling2d.MaxPooling2D at 0x1bb82ff4f10>,\n",
       " <keras.layers.convolutional.conv2d.Conv2D at 0x1bb82faebb0>,\n",
       " <keras.layers.convolutional.conv2d.Conv2D at 0x1bb82f9eb80>,\n",
       " <keras.layers.convolutional.conv2d.Conv2D at 0x1bb83004460>,\n",
       " <keras.layers.pooling.max_pooling2d.MaxPooling2D at 0x1bb82ff48e0>,\n",
       " <keras.layers.convolutional.conv2d.Conv2D at 0x1bb8300a3d0>,\n",
       " <keras.layers.convolutional.conv2d.Conv2D at 0x1bb8300e100>,\n",
       " <keras.layers.convolutional.conv2d.Conv2D at 0x1bb83014e20>,\n",
       " <keras.layers.pooling.max_pooling2d.MaxPooling2D at 0x1bb82ffca90>]"
      ]
     },
     "execution_count": 7,
     "metadata": {},
     "output_type": "execute_result"
    }
   ],
   "source": [
    "model.layers"
   ]
  },
  {
   "cell_type": "code",
   "execution_count": 8,
   "id": "2ee0aaed",
   "metadata": {},
   "outputs": [],
   "source": [
    "for layer in model.layers[:10]:\n",
    "    layer.traiable = False"
   ]
  },
  {
   "cell_type": "code",
   "execution_count": 9,
   "id": "50f1108b",
   "metadata": {},
   "outputs": [
    {
     "name": "stderr",
     "output_type": "stream",
     "text": [
      "d:\\python38\\lib\\site-packages\\keras\\optimizers\\optimizer_v2\\gradient_descent.py:108: UserWarning: The `lr` argument is deprecated, use `learning_rate` instead.\n",
      "  super(SGD, self).__init__(name, **kwargs)\n"
     ]
    }
   ],
   "source": [
    "x = model.output\n",
    "x = Flatten()(x)\n",
    "\n",
    "predictions = Dense(num_classes, activation = 'softmax')(x)\n",
    "model_final = Model(inputs = model.input, outputs = predictions)\n",
    "\n",
    "model_final.compile(loss = 'categorical_crossentropy', \n",
    "                    optimizer = optimizers.SGD(lr = 0.0001, momentum=0.9), \n",
    "                    metrics=['accuracy'])"
   ]
  },
  {
   "cell_type": "markdown",
   "id": "cf4c7d3f",
   "metadata": {},
   "source": [
    "Data Augumentation"
   ]
  },
  {
   "cell_type": "code",
   "execution_count": 10,
   "id": "a0b73e0c",
   "metadata": {},
   "outputs": [
    {
     "name": "stdout",
     "output_type": "stream",
     "text": [
      "Found 432 images belonging to 2 classes.\n",
      "Found 164 images belonging to 2 classes.\n"
     ]
    }
   ],
   "source": [
    "train_datagen = ImageDataGenerator(rescale=1.0/255, horizontal_flip=True, \n",
    "                   fill_mode='nearest',zoom_range=0.1, width_shift_range=0.1, \n",
    "                  height_shift_range=0.1, rotation_range=5)\n",
    "\n",
    "test_datagen = ImageDataGenerator(rescale=1.0/255, horizontal_flip=True, \n",
    "                   fill_mode='nearest',zoom_range=0.1, width_shift_range=0.1, \n",
    "                  height_shift_range=0.1, rotation_range=5)\n",
    "\n",
    "train_generator = train_datagen.flow_from_directory(train_data_dir, target_size=(img_height, img_width), \n",
    "                                 batch_size = batch_size, class_mode = 'categorical')\n",
    "\n",
    "validation_generator = test_datagen.flow_from_directory(validation_data_dir, target_size=(img_height, img_width), \n",
    "                                 batch_size = batch_size, class_mode = 'categorical')"
   ]
  },
  {
   "cell_type": "code",
   "execution_count": 12,
   "id": "64c8e698",
   "metadata": {},
   "outputs": [
    {
     "name": "stdout",
     "output_type": "stream",
     "text": [
      "Epoch 1/15\n"
     ]
    },
    {
     "name": "stderr",
     "output_type": "stream",
     "text": [
      "<ipython-input-12-8ff83239e714>:1: UserWarning: `Model.fit_generator` is deprecated and will be removed in a future version. Please use `Model.fit`, which supports generators.\n",
      "  history = model_final.fit_generator(\n"
     ]
    },
    {
     "name": "stdout",
     "output_type": "stream",
     "text": [
      "13/13 [==============================] - 25s 2s/step - loss: 0.0409 - accuracy: 0.9900 - val_loss: 0.1443 - val_accuracy: 0.9312\n",
      "Epoch 2/15\n",
      "13/13 [==============================] - 26s 2s/step - loss: 0.0331 - accuracy: 0.9900 - val_loss: 0.1052 - val_accuracy: 0.9375\n",
      "Epoch 3/15\n",
      "13/13 [==============================] - 26s 2s/step - loss: 0.0311 - accuracy: 0.9925 - val_loss: 0.1641 - val_accuracy: 0.9250\n",
      "Epoch 4/15\n",
      "13/13 [==============================] - 25s 2s/step - loss: 0.0241 - accuracy: 0.9976 - val_loss: 0.2021 - val_accuracy: 0.9187\n",
      "Epoch 5/15\n",
      "13/13 [==============================] - 24s 2s/step - loss: 0.0231 - accuracy: 0.9975 - val_loss: 0.1273 - val_accuracy: 0.9375\n",
      "Epoch 6/15\n",
      "13/13 [==============================] - 24s 2s/step - loss: 0.0229 - accuracy: 0.9950 - val_loss: 0.1132 - val_accuracy: 0.9438\n",
      "Epoch 7/15\n",
      "13/13 [==============================] - 24s 2s/step - loss: 0.0308 - accuracy: 0.9900 - val_loss: 0.1018 - val_accuracy: 0.9500\n",
      "Epoch 8/15\n",
      "13/13 [==============================] - 24s 2s/step - loss: 0.0283 - accuracy: 0.9925 - val_loss: 0.1073 - val_accuracy: 0.9563\n",
      "Epoch 9/15\n",
      "13/13 [==============================] - 23s 2s/step - loss: 0.0194 - accuracy: 0.9975 - val_loss: 0.1556 - val_accuracy: 0.9500\n",
      "Epoch 10/15\n",
      "13/13 [==============================] - 23s 2s/step - loss: 0.0254 - accuracy: 0.9900 - val_loss: 0.0981 - val_accuracy: 0.9500\n",
      "Epoch 11/15\n",
      "13/13 [==============================] - 23s 2s/step - loss: 0.0206 - accuracy: 0.9975 - val_loss: 0.1962 - val_accuracy: 0.9312\n",
      "Epoch 12/15\n",
      "13/13 [==============================] - 23s 2s/step - loss: 0.0167 - accuracy: 0.9975 - val_loss: 0.1069 - val_accuracy: 0.9500\n",
      "Epoch 13/15\n",
      "13/13 [==============================] - 23s 2s/step - loss: 0.0193 - accuracy: 0.9900 - val_loss: 0.1272 - val_accuracy: 0.9625\n",
      "Epoch 14/15\n",
      "13/13 [==============================] - 23s 2s/step - loss: 0.0160 - accuracy: 0.9975 - val_loss: 0.1396 - val_accuracy: 0.9375\n",
      "Epoch 15/15\n",
      "13/13 [==============================] - 23s 2s/step - loss: 0.0189 - accuracy: 0.9975 - val_loss: 0.1477 - val_accuracy: 0.9312\n"
     ]
    }
   ],
   "source": [
    "history = model_final.fit_generator(\n",
    "train_generator, steps_per_epoch=nb_train_sample//batch_size, \n",
    "    validation_steps=nb_validation_sample//batch_size, \n",
    "epochs = epochs, validation_data=validation_generator)"
   ]
  },
  {
   "cell_type": "code",
   "execution_count": 14,
   "id": "f7b92320",
   "metadata": {},
   "outputs": [
    {
     "data": {
      "text/plain": [
       "{'loss': [0.04091024026274681,\n",
       "  0.03308452293276787,\n",
       "  0.03113832324743271,\n",
       "  0.024135930463671684,\n",
       "  0.02314394898712635,\n",
       "  0.022893469780683517,\n",
       "  0.030818838626146317,\n",
       "  0.028349168598651886,\n",
       "  0.019360944628715515,\n",
       "  0.025422777980566025,\n",
       "  0.02055121399462223,\n",
       "  0.01666790060698986,\n",
       "  0.0192642230540514,\n",
       "  0.01596599444746971,\n",
       "  0.01894940435886383],\n",
       " 'accuracy': [0.9900000095367432,\n",
       "  0.9900000095367432,\n",
       "  0.9925000071525574,\n",
       "  0.9975961446762085,\n",
       "  0.9975000023841858,\n",
       "  0.9950000047683716,\n",
       "  0.9900000095367432,\n",
       "  0.9925000071525574,\n",
       "  0.9975000023841858,\n",
       "  0.9900000095367432,\n",
       "  0.9975000023841858,\n",
       "  0.9975000023841858,\n",
       "  0.9900000095367432,\n",
       "  0.9975000023841858,\n",
       "  0.9975000023841858],\n",
       " 'val_loss': [0.14426998794078827,\n",
       "  0.10518968105316162,\n",
       "  0.16408172249794006,\n",
       "  0.2020951211452484,\n",
       "  0.1273055225610733,\n",
       "  0.11319360882043839,\n",
       "  0.1017620712518692,\n",
       "  0.10730527341365814,\n",
       "  0.155594140291214,\n",
       "  0.09806577861309052,\n",
       "  0.1962229311466217,\n",
       "  0.10688270628452301,\n",
       "  0.12716440856456757,\n",
       "  0.1395980715751648,\n",
       "  0.1477278470993042],\n",
       " 'val_accuracy': [0.9312499761581421,\n",
       "  0.9375,\n",
       "  0.925000011920929,\n",
       "  0.918749988079071,\n",
       "  0.9375,\n",
       "  0.9437500238418579,\n",
       "  0.949999988079071,\n",
       "  0.956250011920929,\n",
       "  0.949999988079071,\n",
       "  0.949999988079071,\n",
       "  0.9312499761581421,\n",
       "  0.949999988079071,\n",
       "  0.9624999761581421,\n",
       "  0.9375,\n",
       "  0.9312499761581421]}"
      ]
     },
     "execution_count": 14,
     "metadata": {},
     "output_type": "execute_result"
    }
   ],
   "source": [
    "history.history"
   ]
  },
  {
   "cell_type": "code",
   "execution_count": 15,
   "id": "ca9afd29",
   "metadata": {},
   "outputs": [
    {
     "data": {
      "image/png": "[encoded data removed]",
      "text/plain": [
       "<Figure size 432x288 with 1 Axes>"
      ]
     },
     "metadata": {
      "needs_background": "light"
     },
     "output_type": "display_data"
    }
   ],
   "source": [
    "import matplotlib.pyplot as plt\n",
    "plt.plot(history.history['accuracy'])\n",
    "plt.plot(history.history['val_accuracy'])\n",
    "plt.title('model_accuracy')\n",
    "plt.ylabel('accuracy')\n",
    "plt.xlabel('epochs')\n",
    "plt.legend(['train', 'test'], loc = 'upper left')\n",
    "plt.show()"
   ]
  },
  {
   "cell_type": "code",
   "execution_count": 16,
   "id": "e9fa2640",
   "metadata": {},
   "outputs": [
    {
     "data": {
      "image/png": "[encoded data removed]",
      "text/plain": [
       "<Figure size 432x288 with 1 Axes>"
      ]
     },
     "metadata": {
      "needs_background": "light"
     },
     "output_type": "display_data"
    }
   ],
   "source": [
    "import matplotlib.pyplot as plt\n",
    "plt.plot(history.history['loss'])\n",
    "plt.plot(history.history['val_loss'])\n",
    "plt.title('model_loss')\n",
    "plt.ylabel('loss')\n",
    "plt.xlabel('epochs')\n",
    "plt.legend(['train', 'test'], loc = 'upper left')\n",
    "plt.show()"
   ]
  },
  {
   "cell_type": "code",
   "execution_count": null,
   "id": "45debf0f",
   "metadata": {},
   "outputs": [],
   "source": [
    "model_final.save('model_final.h5')"
   ]
  },
  {
   "cell_type": "code",
   "execution_count": 18,
   "id": "16e16bbe",
   "metadata": {},
   "outputs": [],
   "source": [
    "class_dictionary = {}\n",
    "class_dictionary[0]  = 'no_car'\n",
    "class_dictionary[1]  = 'car'"
   ]
  },
  {
   "cell_type": "code",
   "execution_count": 19,
   "id": "ade30be2",
   "metadata": {},
   "outputs": [
    {
     "data": {
      "text/plain": [
       "{0: 'no_car', 1: 'car'}"
      ]
     },
     "execution_count": 19,
     "metadata": {},
     "output_type": "execute_result"
    }
   ],
   "source": [
    "class_dictionary"
   ]
  },
  {
   "cell_type": "markdown",
   "id": "f90bf2a1",
   "metadata": {},
   "source": [
    "Predictive System"
   ]
  },
  {
   "cell_type": "code",
   "execution_count": 26,
   "id": "af810ffd",
   "metadata": {},
   "outputs": [],
   "source": [
    "import cv2\n",
    "import numpy as np\n",
    "\n",
    "def make_prediction(image):\n",
    "    image = cv2.imread(image)\n",
    "    image = cv2.resize(image, (48, 48))\n",
    "    img = image/255\n",
    "#     (1, 48, 48, 3) -> 4D Tensor\n",
    "    img = np.expand_dims(img, axis = 0)\n",
    "    \n",
    "    class_predicted = model_final.predict(img)\n",
    "    intId = np.argmax(class_predicted[0])\n",
    "    label = class_dictionary[intId]\n",
    "    return label"
   ]
  },
  {
   "cell_type": "code",
   "execution_count": 27,
   "id": "89cdbf5d",
   "metadata": {},
   "outputs": [
    {
     "name": "stdout",
     "output_type": "stream",
     "text": [
      "1/1 [==============================] - 0s 62ms/step\n"
     ]
    },
    {
     "data": {
      "text/plain": [
       "'car'"
      ]
     },
     "execution_count": 27,
     "metadata": {},
     "output_type": "execute_result"
    }
   ],
   "source": [
    "make_prediction(\"roi_1.png\")"
   ]
  },
  {
   "cell_type": "code",
   "execution_count": 28,
   "id": "b60c7758",
   "metadata": {},
   "outputs": [
    {
     "name": "stdout",
     "output_type": "stream",
     "text": [
      "1/1 [==============================] - 0s 53ms/step\n"
     ]
    },
    {
     "data": {
      "text/plain": [
       "'no_car'"
      ]
     },
     "execution_count": 28,
     "metadata": {},
     "output_type": "execute_result"
    }
   ],
   "source": [
    "make_prediction(\"spot169.jpg\")"
   ]
  },
  {
   "cell_type": "code",
   "execution_count": 29,
   "id": "34627189",
   "metadata": {},
   "outputs": [],
   "source": [
    "model_final.save(\"model_final.h5\")"
   ]
  },
  {
   "cell_type": "code",
   "execution_count": null,
   "id": "0be24855",
   "metadata": {},
   "outputs": [],
   "source": []
  }
 ],
 "metadata": {
  "kernelspec": {
   "display_name": "Python 3",
   "language": "python",
   "name": "python3"
  },
  "language_info": {
   "codemirror_mode": {
    "name": "ipython",
    "version": 3
   },
   "file_extension": ".py",
   "mimetype": "text/x-python",
   "name": "python",
   "nbconvert_exporter": "python",
   "pygments_lexer": "ipython3",
   "version": "3.8.5"
  }
 },
 "nbformat": 4,
 "nbformat_minor": 5
}
